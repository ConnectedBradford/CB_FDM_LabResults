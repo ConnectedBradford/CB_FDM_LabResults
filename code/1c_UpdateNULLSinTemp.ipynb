{
 "cells": [
  {
   "cell_type": "code",
   "execution_count": 2,
   "id": "e86d5a61-23db-4dd7-b17a-5c78eb4f17cd",
   "metadata": {},
   "outputs": [
    {
     "name": "stderr",
     "output_type": "stream",
     "text": [
      "\n",
      "Attaching package: ‘lubridate’\n",
      "\n",
      "\n",
      "The following objects are masked from ‘package:base’:\n",
      "\n",
      "    date, intersect, setdiff, union\n",
      "\n",
      "\n"
     ]
    }
   ],
   "source": [
    "\n",
    "library(bigrquery)\n",
    "library(lubridate) \n",
    "\n",
    "# Store the project ID\n",
    "project_id = \"yhcr-prd-phm-bia-core\"\n",
    "\n",
    "sourcedb <-\"yhcr-prd-phm-bia-core.CB_MYSPACE_JDB\"\n"
   ]
  },
  {
   "cell_type": "code",
   "execution_count": 3,
   "id": "fbd5a61a-b76e-4076-9753-06b06cab43e3",
   "metadata": {},
   "outputs": [],
   "source": [
    "#Using a loop to make the text nuill into actual nulls\n",
    "#Your loop references this table\n",
    "#You run this to load the list of tables into the dataframe \"table\"\n",
    "\n",
    "sql3 <-paste('select table_name, column_name  from ' ,sourcedb,'.INFORMATION_SCHEMA.COLUMNS where data_type = \"STRING\" \n",
    "and (column_name like \"%date%\" or column_name like \"%dt%\" or column_name like \"%age%\" or column_name like \"%time%\")  ;', sep = \"\")\n",
    "tb3 <- bq_project_query(project_id, sql3)\n",
    "\n",
    "table <- bq_table_download(tb3)\n",
    "#table "
   ]
  },
  {
   "cell_type": "code",
   "execution_count": null,
   "id": "809b1b07-fc64-4fed-8009-d6e01489196f",
   "metadata": {},
   "outputs": [],
   "source": [
    "#Using a loop to make the text nuill into actual nulls\n",
    "#Your loop references this table\n",
    "#You run this to load the list of tables into the dataframe \"table\"\n",
    "# CAULTION - THIS WILL UPDATE ALL NULLS everywhere !! \n",
    "\n",
    "sql3 <-paste('select table_name, column_name  from ' ,sourcedb,'.INFORMATION_SCHEMA.COLUMNS where data_type = \"STRING\" ;', sep = \"\")\n",
    "tb3 <- bq_project_query(project_id, sql3)\n",
    "\n",
    "table <- bq_table_download(tb3)\n",
    "table "
   ]
  },
  {
   "cell_type": "code",
   "execution_count": null,
   "id": "4b32da8c-6757-465f-805a-e18a89f5ced4",
   "metadata": {},
   "outputs": [],
   "source": [
    "#This then loops through the data frame until the end\n",
    "# uses the two variables table[[i, 1]] and table[[i, 2]]\n",
    "# in the query\n",
    "\n",
    "for(i in 2:nrow(table)) \n",
    "{\n",
    "# for-loop over columns\n",
    "#    print(paste0(\"Table: \", table[[i, 1]]))\n",
    "#    print(paste0(\"Table: \", table[[i, 2]]))\n",
    "    temp_sql_query  <-paste('update ' ,sourcedb,'.',table[[i, 1]] ,' set ', table[[i, 2]] ,' = null where ', table[[i, 2]] , ' = \"NULL\"'  , sep = \"\") \n",
    "#    print (temp_sql_query)    \n",
    "    temp_queried_table <- bq_project_query(project_id, temp_sql_query)\n",
    "    #section below just brings this back to R \n",
    "    #temp_table <- bq_table_download(temp_queried_table)\n",
    "\n",
    "    #Prints out a confirmation message for each update\n",
    "    #print(paste0(\"Done: \", table[[1, 1]],' ', table[[1, 2]]))\n",
    "    #cat(\"\\n\")\n",
    "}\n",
    "\n",
    "\n",
    "fred <-paste('Done all nulls ' ,Sys.time() + hours(1), sep = \"\")\n",
    "print (fred)\n",
    "\n",
    "print('Now open BigQuery and run Make_Staging_Database_Warehouse_FDM_Format')\n",
    "print('Once complete you can then run 2_Make_Warehouse_FDM_FULL_V1.0.ipynb')"
   ]
  }
 ],
 "metadata": {
  "environment": {
   "kernel": "ir",
   "name": "r-cpu.4-2.m110",
   "type": "gcloud",
   "uri": "gcr.io/deeplearning-platform-release/r-cpu.4-2:m110"
  },
  "kernelspec": {
   "display_name": "R",
   "language": "R",
   "name": "ir"
  },
  "language_info": {
   "codemirror_mode": "r",
   "file_extension": ".r",
   "mimetype": "text/x-r-source",
   "name": "R",
   "pygments_lexer": "r",
   "version": "4.3.1"
  }
 },
 "nbformat": 4,
 "nbformat_minor": 5
}
