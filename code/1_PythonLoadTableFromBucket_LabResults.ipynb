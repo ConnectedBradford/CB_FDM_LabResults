{
 "cells": [
  {
   "cell_type": "code",
   "execution_count": 2,
   "id": "842b9566-0ba2-4539-9641-6e9331534354",
   "metadata": {},
   "outputs": [
    {
     "name": "stderr",
     "output_type": "stream",
     "text": [
      "/opt/conda/lib/python3.7/site-packages/google/auth/_default.py:78: UserWarning: Your application has authenticated using end user credentials from Google Cloud SDK without a quota project. You might receive a \"quota exceeded\" or \"API not enabled\" error. See the following page for troubleshooting: https://cloud.google.com/docs/authentication/adc-troubleshooting/user-creds. \n",
      "  warnings.warn(_CLOUD_SDK_CREDENTIALS_WARNING)\n",
      "/opt/conda/lib/python3.7/site-packages/google/auth/_default.py:78: UserWarning: Your application has authenticated using end user credentials from Google Cloud SDK without a quota project. You might receive a \"quota exceeded\" or \"API not enabled\" error. See the following page for troubleshooting: https://cloud.google.com/docs/authentication/adc-troubleshooting/user-creds. \n",
      "  warnings.warn(_CLOUD_SDK_CREDENTIALS_WARNING)\n"
     ]
    }
   ],
   "source": [
    "from google.cloud import bigquery\n",
    "from google.cloud.bigquery import LoadJobConfig\n",
    "from google.cloud.bigquery import SchemaField\n",
    "\n",
    "client = bigquery.Client()\n",
    "dataset_ref = client.dataset('CB_MYSPACE_JDB')"
   ]
  },
  {
   "cell_type": "code",
   "execution_count": 6,
   "id": "bde26293-5471-4df8-bfbf-23a1fbbf8af4",
   "metadata": {},
   "outputs": [
    {
     "name": "stdout",
     "output_type": "stream",
     "text": [
      "tbl_labresults.csv - Loaded 1141871 rows.\n"
     ]
    }
   ],
   "source": [
    "## create table src_LabResults\n",
    "schema = [\n",
    "bigquery.SchemaField('digest', 'STRING', mode='NULLABLE'),\n",
    "bigquery.SchemaField('LabPersonRef', 'STRING', mode='NULLABLE'),\n",
    "bigquery.SchemaField('ParticipantType', 'STRING', mode='NULLABLE'),\n",
    "bigquery.SchemaField('agey_test', 'STRING', mode='NULLABLE'),\n",
    "bigquery.SchemaField('agem_test', 'STRING', mode='NULLABLE'),\n",
    "bigquery.SchemaField('ENCNTR_ID', 'STRING', mode='NULLABLE'),\n",
    "bigquery.SchemaField('Performed_Date', 'STRING', mode='NULLABLE'),\n",
    "bigquery.SchemaField('ORDER_ID', 'STRING', mode='NULLABLE'),\n",
    "bigquery.SchemaField('CATALOG_DESCRIPTION', 'STRING', mode='NULLABLE'),\n",
    "bigquery.SchemaField('EVENT_DESCRIPTION', 'STRING', mode='NULLABLE'),\n",
    "bigquery.SchemaField('RESULT', 'STRING', mode='NULLABLE'),\n",
    "bigquery.SchemaField('RESULT_UNIT_DESC', 'STRING', mode='NULLABLE'),\n",
    "bigquery.SchemaField('RESULT_NORMAL_LOW', 'STRING', mode='NULLABLE'),\n",
    "bigquery.SchemaField('RESULT_NORMAL_HIGH', 'STRING', mode='NULLABLE'),\n",
    "]\n",
    "\n",
    "table_ref = dataset_ref.table('tbl_labresults')\n",
    "table = bigquery.Table(table_ref, schema=schema)\n",
    "#table = client.delete_table(table) \n",
    "#table = client.create_table(table)  # API request\n",
    "\n",
    "## Loading data for tbl_ae_investigation_nautilus\n",
    "\n",
    "#table_ref = client.dataset('dataset_name').table('table_name')\n",
    "\n",
    "load_config = LoadJobConfig()\n",
    "load_config.skip_leading_rows = 2\n",
    "load_config.field_delimiter=\"|\"\n",
    "write_disposition=\"WRITE_APPEND\"\n",
    "load_config.schema = schema\n",
    "uri = 'gs://bucket_autoload/tbl_labresults.txt'\n",
    "\n",
    "load_job = client.load_table_from_uri(\n",
    "    uri,\n",
    "    table_ref,\n",
    "    job_config=load_config)\n",
    "\n",
    "load_job.result()\n",
    "\n",
    "destination_table = client.get_table(table_ref)\n",
    "print('tbl_labresults.csv - Loaded {} rows.'.format(destination_table.num_rows))\n"
   ]
  },
  {
   "cell_type": "code",
   "execution_count": null,
   "id": "b3d2aff3-ff26-4242-8560-d5f80fd05714",
   "metadata": {},
   "outputs": [],
   "source": []
  }
 ],
 "metadata": {
  "environment": {
   "kernel": "python3",
   "name": "r-cpu.4-2.m110",
   "type": "gcloud",
   "uri": "gcr.io/deeplearning-platform-release/r-cpu.4-2:m110"
  },
  "kernelspec": {
   "display_name": "Python 3",
   "language": "python",
   "name": "python3"
  },
  "language_info": {
   "codemirror_mode": {
    "name": "ipython",
    "version": 3
   },
   "file_extension": ".py",
   "mimetype": "text/x-python",
   "name": "python",
   "nbconvert_exporter": "python",
   "pygments_lexer": "ipython3",
   "version": "3.7.12"
  }
 },
 "nbformat": 4,
 "nbformat_minor": 5
}
