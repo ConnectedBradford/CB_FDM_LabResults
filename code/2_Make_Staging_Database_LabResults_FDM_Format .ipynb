{
 "cells": [
  {
   "cell_type": "code",
   "execution_count": 10,
   "id": "c7c7ba92-02cf-4e4e-975c-d015306525aa",
   "metadata": {},
   "outputs": [
    {
     "name": "stdout",
     "output_type": "stream",
     "text": [
      "[1] \"yhcr-prd-phm-bia-core.CB_MYSPACE_JDB\"\n",
      "[1] \"yhcr-prd-phm-bia-core.CB_STAGING_DATABASE_FDM_Format\"\n",
      "[1] \"yhcr-prd-phm-bia-core.CB_STAGING_DATABASE.src_DemoGraphics_MASTER\"\n",
      "[1] \"Started at 2024-04-23 12:18:49.270217\"\n"
     ]
    }
   ],
   "source": [
    "#2_Make_Staging_Database_Warehouse_FDM_Format \n",
    "\n",
    "library(bigrquery)\n",
    "library(lubridate) \n",
    "\n",
    "project_id = \"yhcr-prd-phm-bia-core\"\n",
    "\n",
    "targetdb <-'yhcr-prd-phm-bia-core.CB_STAGING_DATABASE_FDM_Format'\n",
    "  demodb <-'yhcr-prd-phm-bia-core.CB_STAGING_DATABASE.src_DemoGraphics_MASTER'\n",
    "sourcedb <-'yhcr-prd-phm-bia-core.CB_MYSPACE_JDB'\n",
    "\n",
    "targetdb <-gsub(\" \",'',targetdb)\n",
    "sourcedb <-gsub(\" \",'',sourcedb)\n",
    "  demodb <-gsub(\" \",'',demodb)\n",
    "\n",
    "\n",
    "print (sourcedb) \n",
    "print (targetdb)\n",
    "print (demodb)\n",
    "\n",
    "#example script\n",
    "\n",
    "eric <- paste(\"Started at \"  ,Sys.time() + hours(1) ,sep = \"\")\n",
    "print(eric) "
   ]
  },
  {
   "cell_type": "code",
   "execution_count": 11,
   "id": "3ed925a2-86e5-4f41-ac36-27c7befe5daa",
   "metadata": {},
   "outputs": [
    {
     "name": "stderr",
     "output_type": "stream",
     "text": [
      "Auto-refreshing stale OAuth token.\n",
      "\n"
     ]
    },
    {
     "name": "stdout",
     "output_type": "stream",
     "text": [
      "[1] \"LabResultsInStagingCompleted 2024-04-23 12:19:34.640087\"\n"
     ]
    }
   ],
   "source": [
    "sql3 <-paste('drop table if exists ', targetdb,'.tbl_LabResults; ', sep = \"\") \n",
    "tb3 <- bq_project_query(project_id, sql3)\n",
    "\n",
    "sql4 <-paste('CREATE  TABLE ', targetdb,'.tbl_LabResults\n",
    "as \n",
    "select \n",
    "dem.person_id,\n",
    "cast(src.Performed_date as date)  as tbl_LabResults_start_date,\n",
    "cast(src.Performed_date as date) as tbl_LabResults_end_date,\n",
    "src.digest,\n",
    "LabPersonRef as labperesonref,\n",
    "ParticipantType as participanttype,\n",
    "cast(agey_test as int64) as age_y_test,\n",
    "cast(agem_test as int64) as age_m_test,\n",
    "ENCNTR_ID as encntr_id,\n",
    "cast(Performed_Date as date)  as performed_date,\n",
    "ORDER_ID as order_id,\n",
    "CATALOG_DESCRIPTION as catalog_description,\n",
    "EVENT_DESCRIPTION as event_description,\n",
    "RESULT as result,\n",
    "RESULT_UNIT_DESC as result_unit_desc,\n",
    "RESULT_NORMAL_LOW as result_normal_low,\n",
    "RESULT_NORMAL_HIGH as result_normal_high,\n",
    "\"LabResults_20240423\" as cb_datasetref\n",
    " FROM ', sourcedb,'.tbl_labresults src\n",
    " left join ', demodb,' dem\n",
    "on src.digest = dem.digest ', sep = \"\") \n",
    "\n",
    "tb4 <- bq_project_query(project_id, sql4)\n",
    "\n",
    "fred <-paste('LabResultsInStagingCompleted ' ,Sys.time() + hours(1), sep = \"\")\n",
    "print (fred)\n",
    "\n"
   ]
  },
  {
   "cell_type": "code",
   "execution_count": null,
   "id": "53a3f84e-a194-4092-ab64-dbad5b281759",
   "metadata": {},
   "outputs": [],
   "source": []
  }
 ],
 "metadata": {
  "environment": {
   "kernel": "ir",
   "name": "r-cpu.4-2.m110",
   "type": "gcloud",
   "uri": "gcr.io/deeplearning-platform-release/r-cpu.4-2:m110"
  },
  "kernelspec": {
   "display_name": "R",
   "language": "R",
   "name": "ir"
  },
  "language_info": {
   "codemirror_mode": "r",
   "file_extension": ".r",
   "mimetype": "text/x-r-source",
   "name": "R",
   "pygments_lexer": "r",
   "version": "4.3.1"
  }
 },
 "nbformat": 4,
 "nbformat_minor": 5
}
